{
 "cells": [
  {
   "cell_type": "code",
   "execution_count": 2,
   "metadata": {},
   "outputs": [],
   "source": [
    "import pandas as pd\n",
    "import numpy as np"
   ]
  },
  {
   "cell_type": "code",
   "execution_count": 4,
   "metadata": {},
   "outputs": [],
   "source": [
    "def calculate_WoE(dataset,feature,target):\n",
    "    lst=[]\n",
    "    for i in range(dataset[feature].nunique()):\n",
    "        val=list(dataset[feature].unique())[i]\n",
    "        lst.append({\n",
    "            'Value':val,\n",
    "            'All':dataset[dataset[feature]==val].count()[feature],\n",
    "            'Good':dataset[(dataset[feature]==val)&(dataset[target]==1)].count()[feature],\n",
    "            'Bad':dataset[(dataset[feature]==val)&(dataset[target]==0)].count()[feature]\n",
    "        })\n",
    "    dset=pd.DataFrame(lst)\n",
    "    dset['Distr_Good']=dset['Good']/dset['Good'].sum()\n",
    "    dset['Distr_Bad']=dset['Bad']/dset['Bad'].sum()\n",
    "    dset['WoE']=np.log(dset['Distr_Good']/dset['Distr_Bad'])\n",
    "    dset=dset.replace({'WoE':{np.inf:0,-np.inf:0}})\n",
    "    dset[\"IV\"]=(dset['Distr_Good']-dset['Distr_Bad'])*dset['WoE']\n",
    "    iv=dset['IV'].sum()\n",
    "        \n",
    "    dset=dset.sort_values(by='WoE')\n",
    "        \n",
    "    return dset,iv"
   ]
  },
  {
   "cell_type": "code",
   "execution_count": 5,
   "metadata": {},
   "outputs": [],
   "source": [
    "def print_woe_iv(data,target):\n",
    "    for col in data.columns:\n",
    "        if col == target:\n",
    "            continue\n",
    "        else:\n",
    "            print(\"WoE and IV fo category:{}\",format(col))\n",
    "            df,iv=calculate_WoE(data,col,target)\n",
    "            print(df)\n",
    "            print('IV score:{:.2f}'.format(iv))\n",
    "            print('\\n')"
   ]
  },
  {
   "cell_type": "code",
   "execution_count": 6,
   "metadata": {},
   "outputs": [],
   "source": [
    "def get_countstate_categories(data,column):\n",
    "    categories=data[column].unique()\n",
    "    for category in categories:\n",
    "        n=len(data[(data[column]==category)])\n",
    "        positive=len(data[(data[column]==category) & (au_data['A15']==1)])\n",
    "        negative=len(data[(data[column]==category) & (au_data['A15']==0)])\n",
    "        print('Category:{}, len:{}, positive:{}, negative:{}'.format(category,n,positive,negative))"
   ]
  },
  {
   "cell_type": "code",
   "execution_count": 13,
   "metadata": {},
   "outputs": [],
   "source": [
    "au_data=pd.read_csv('data/australian.csv')"
   ]
  },
  {
   "cell_type": "code",
   "execution_count": 14,
   "metadata": {},
   "outputs": [
    {
     "name": "stdout",
     "output_type": "stream",
     "text": [
      "False\n"
     ]
    },
    {
     "data": {
      "text/plain": [
       "True"
      ]
     },
     "execution_count": 14,
     "metadata": {},
     "output_type": "execute_result"
    }
   ],
   "source": [
    "print(np.any(np.isnan(au_data)))\n",
    "np.all(np.isfinite(au_data))"
   ]
  },
  {
   "cell_type": "code",
   "execution_count": 15,
   "metadata": {},
   "outputs": [
    {
     "data": {
      "text/plain": [
       "(               Value  All  Good  Bad  Distr_Good  Distr_Bad       WoE  \\\n",
       " 4    (13.749, 18.17]   42    10   32    0.032573   0.083551 -0.941964   \n",
       " 13   (29.649, 31.57]   42    12   30    0.039088   0.078329 -0.695103   \n",
       " 15    (23.25, 24.58]   39    12   27    0.039088   0.070496 -0.589743   \n",
       " 0      (21.08, 22.5]   43    15   28    0.048860   0.073107 -0.402967   \n",
       " 11    (18.17, 19.67]   41    15   26    0.048860   0.067885 -0.328859   \n",
       " 9    (33.566, 35.31]   41    15   26    0.048860   0.067885 -0.328859   \n",
       " 6    (26.056, 27.83]   44    18   26    0.058632   0.067885 -0.146538   \n",
       " 2    (27.83, 29.649]   37    16   21    0.052117   0.054830 -0.050746   \n",
       " 16   (35.31, 38.741]   40    18   22    0.058632   0.057441  0.020517   \n",
       " 7    (31.57, 33.566]   39    18   21    0.058632   0.054830  0.067037   \n",
       " 3     (19.67, 21.08]   41    20   21    0.065147   0.054830  0.172397   \n",
       " 14   (24.58, 26.056]   39    20   19    0.065147   0.049608  0.272481   \n",
       " 8   (38.741, 41.453]   41    22   19    0.071661   0.049608  0.367791   \n",
       " 1      (22.5, 23.25]   39    21   18    0.068404   0.046997  0.375338   \n",
       " 12  (41.453, 47.415]   40    23   17    0.074919   0.044386  0.523468   \n",
       " 10  (47.415, 54.372]   41    24   17    0.078176   0.044386  0.566028   \n",
       " 5    (54.372, 80.25]   41    28   13    0.091205   0.033943  0.988442   \n",
       " \n",
       "           IV  \n",
       " 4   0.048019  \n",
       " 13  0.027277  \n",
       " 15  0.018523  \n",
       " 0   0.009771  \n",
       " 11  0.006257  \n",
       " 9   0.006257  \n",
       " 6   0.001356  \n",
       " 2   0.000138  \n",
       " 16  0.000024  \n",
       " 7   0.000255  \n",
       " 3   0.001778  \n",
       " 14  0.004234  \n",
       " 8   0.008111  \n",
       " 1   0.008035  \n",
       " 12  0.015983  \n",
       " 10  0.019126  \n",
       " 5   0.056601  ,\n",
       " 0.23174236539353166)"
      ]
     },
     "execution_count": 15,
     "metadata": {},
     "output_type": "execute_result"
    }
   ],
   "source": [
    "au_data['A2_bins']=pd.qcut(au_data['A2'],17)\n",
    "#get_countstate_categories(au_data,'A2_bins')\n",
    "calculate_WoE(au_data,'A2_bins','A15')"
   ]
  },
  {
   "cell_type": "code",
   "execution_count": 16,
   "metadata": {},
   "outputs": [
    {
     "data": {
      "text/plain": [
       "(              Value  All  Good  Bad  Distr_Good  Distr_Bad       WoE        IV\n",
       " 7      (1.084, 1.5]   55    11   44    0.035831   0.114883 -1.165107  0.092104\n",
       " 3       (0.5, 0.75]   46    11   35    0.035831   0.091384 -0.936266  0.052013\n",
       " 12     (1.934, 2.5]   55    16   39    0.052117   0.101828 -0.669786  0.033295\n",
       " 11     (3.0, 4.016]   45    15   30    0.048860   0.078329 -0.471960  0.013908\n",
       " 14     (0.247, 0.5]   52    20   32    0.065147   0.083551 -0.248816  0.004579\n",
       " 8        (2.5, 3.0]   38    16   22    0.052117   0.057441 -0.097266  0.000518\n",
       " 6     (0.75, 1.084]   40    17   23    0.055375   0.060052 -0.081094  0.000379\n",
       " 2      (1.5, 1.934]   37    16   21    0.052117   0.054830 -0.050746  0.000138\n",
       " 10  (-0.001, 0.247]   46    23   23    0.074919   0.060052  0.221187  0.003288\n",
       " 0      (11.0, 13.0]   45    24   21    0.078176   0.054830  0.354719  0.008281\n",
       " 5    (4.016, 5.055]   46    25   21    0.081433   0.054830  0.395541  0.010523\n",
       " 9     (9.432, 11.0]   49    28   21    0.091205   0.054830  0.508869  0.018510\n",
       " 1     (6.75, 9.432]   45    27   18    0.087948   0.046997  0.626652  0.025662\n",
       " 4     (5.055, 6.75]   47    29   18    0.094463   0.046997  0.698111  0.033136\n",
       " 13     (13.0, 28.0]   44    29   15    0.094463   0.039164  0.880433  0.048686,\n",
       " 0.34502003520768554)"
      ]
     },
     "execution_count": 16,
     "metadata": {},
     "output_type": "execute_result"
    }
   ],
   "source": [
    "au_data['A3_bins']=pd.qcut(au_data['A3'],15)\n",
    "#get_countstate_categories(au_data,'A2_bins')\n",
    "calculate_WoE(au_data,'A3_bins','A15')"
   ]
  },
  {
   "cell_type": "code",
   "execution_count": 18,
   "metadata": {},
   "outputs": [
    {
     "data": {
      "text/plain": [
       "(            Value  All  Good  Bad  Distr_Good  Distr_Bad       WoE        IV\n",
       " 1  (-0.001, 0.29]  234    55  179    0.179153   0.467363 -0.958865  0.276354\n",
       " 0     (0.29, 2.0]  238   103  135    0.335505   0.352480 -0.049359  0.000838\n",
       " 2     (2.0, 28.5]  218   149   69    0.485342   0.180157  0.991027  0.302447,\n",
       " 0.5796392617515507)"
      ]
     },
     "execution_count": 18,
     "metadata": {},
     "output_type": "execute_result"
    }
   ],
   "source": [
    "au_data['A7_bins']=pd.qcut(au_data['A7'],3)\n",
    "#get_countstate_categories(au_data,'A2_bins')\n",
    "calculate_WoE(au_data,'A7_bins','A15')"
   ]
  },
  {
   "cell_type": "code",
   "execution_count": 19,
   "metadata": {},
   "outputs": [
    {
     "data": {
      "text/plain": [
       "(           Value  All  Good  Bad  Distr_Good  Distr_Bad       WoE        IV\n",
       " 0  (-0.001, 1.0]  466   133  333    0.433225   0.869452 -0.696606  0.303878\n",
       " 2     (1.0, 3.0]   73    39   34    0.127036   0.088773  0.358388  0.013713\n",
       " 3     (3.0, 7.0]   72    63    9    0.205212   0.023499  2.167097  0.393790\n",
       " 1    (7.0, 67.0]   79    72    7    0.234528   0.018277  2.551943  0.551860,\n",
       " 1.263241282604532)"
      ]
     },
     "execution_count": 19,
     "metadata": {},
     "output_type": "execute_result"
    }
   ],
   "source": [
    "au_data['A10_bins']=pd.qcut(au_data['A10'],8,duplicates='drop')\n",
    "#get_countstate_categories(au_data,'A2_bins')\n",
    "calculate_WoE(au_data,'A10_bins','A15')"
   ]
  },
  {
   "cell_type": "code",
   "execution_count": 20,
   "metadata": {},
   "outputs": [
    {
     "data": {
      "text/plain": [
       "(             Value  All  Good  Bad  Distr_Good  Distr_Bad       WoE        IV\n",
       " 1   (120.0, 186.8]  127    35   92    0.114007   0.240209 -0.745253  0.094053\n",
       " 2   (186.8, 300.0]  147    49   98    0.159609   0.255875 -0.471960  0.045433\n",
       " 4  (300.0, 2000.0]  129    63   66    0.205212   0.172324  0.174667  0.005744\n",
       " 0    (27.2, 120.0]  149    75   74    0.244300   0.193211  0.234610  0.011986\n",
       " 3   (-0.001, 27.2]  138    85   53    0.276873   0.138381  0.693547  0.096050,\n",
       " 0.2532669603951993)"
      ]
     },
     "execution_count": 20,
     "metadata": {},
     "output_type": "execute_result"
    }
   ],
   "source": [
    "au_data['A13_bins']=pd.qcut(au_data['A13'],5)\n",
    "#get_countstate_categories(au_data,'A2_bins')\n",
    "calculate_WoE(au_data,'A13_bins','A15')"
   ]
  },
  {
   "cell_type": "code",
   "execution_count": 21,
   "metadata": {},
   "outputs": [
    {
     "data": {
      "text/plain": [
       "(             Value  All  Good  Bad  Distr_Good  Distr_Bad       WoE        IV\n",
       " 1     (0.999, 6.0]  352   116  236     0.37785   0.616188 -0.489054  0.116560\n",
       " 0  (6.0, 100001.0]  338   191  147     0.62215   0.383812  0.483028  0.115124,\n",
       " 0.23168401973247713)"
      ]
     },
     "execution_count": 21,
     "metadata": {},
     "output_type": "execute_result"
    }
   ],
   "source": [
    "au_data['A14_bins']=pd.qcut(au_data['A14'],2)\n",
    "#get_countstate_categories(au_data,'A2_bins')\n",
    "calculate_WoE(au_data,'A14_bins','A15')"
   ]
  },
  {
   "cell_type": "code",
   "execution_count": 12,
   "metadata": {},
   "outputs": [],
   "source": [
    "au_data.drop(['A2','A3','A7','A10','A13','A14'],axis=1).to_csv('data/au_data_prepared.csv',index=False)"
   ]
  }
 ],
 "metadata": {
  "kernelspec": {
   "display_name": "Python 3.7.0 32-bit",
   "language": "python",
   "name": "python3"
  },
  "language_info": {
   "codemirror_mode": {
    "name": "ipython",
    "version": 3
   },
   "file_extension": ".py",
   "mimetype": "text/x-python",
   "name": "python",
   "nbconvert_exporter": "python",
   "pygments_lexer": "ipython3",
   "version": "3.7.0"
  },
  "orig_nbformat": 4,
  "vscode": {
   "interpreter": {
    "hash": "173ae74ecd759d33659dc89cc0ace91dba90ddaa088b7a848a7f37d845ddcc5d"
   }
  }
 },
 "nbformat": 4,
 "nbformat_minor": 2
}
