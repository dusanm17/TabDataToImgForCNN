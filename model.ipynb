{
 "cells": [
  {
   "cell_type": "code",
   "execution_count": 33,
   "metadata": {},
   "outputs": [],
   "source": [
    "import tensorflow as tf\n",
    "import numpy as np\n",
    "from matplotlib import pyplot as plt\n",
    "import pandas as pd\n",
    "from tqdm import tqdm\n",
    "import random\n",
    "from sklearn.model_selection import train_test_split\n",
    "from sklearn.model_selection import KFold\n",
    "from sklearn.model_selection import StratifiedKFold\n",
    "import mitdeeplearning as mdl\n",
    "import random\n",
    "from itertools import combinations\n",
    "from tensorflow.keras import regularizers\n",
    "from sklearn.metrics import confusion_matrix\n",
    "from sklearn.metrics import classification_report"
   ]
  },
  {
   "cell_type": "code",
   "execution_count": 18,
   "metadata": {},
   "outputs": [],
   "source": [
    "def get_max_nunieque(data):\n",
    "    max_value=0\n",
    "    for column in data.columns:\n",
    "        #print(column+': ',end='')\n",
    "        #print(data[column].nunique())\n",
    "        if data[column].nunique() > max_value:\n",
    "            max_value=data[column].nunique()\n",
    "    return max_value"
   ]
  },
  {
   "cell_type": "code",
   "execution_count": 20,
   "metadata": {},
   "outputs": [],
   "source": [
    "def create_images(data):\n",
    "    height=get_max_nunieque(data)+1\n",
    "    width=len(data.columns)\n",
    "    lista=[]\n",
    "    for column in data.columns:\n",
    "        dum=pd.get_dummies(data[column])\n",
    "        lista.append(dum)\n",
    "    images=[]\n",
    "    for i in range(len(data)):\n",
    "        image=np.zeros(shape=(height,width,1))\n",
    "        for j in range(len(lista)):\n",
    "            image[np.where(lista[j].iloc[i].values==1)[0][0],j]=255\n",
    "        images.append(image)\n",
    "    return np.asarray(images)"
   ]
  },
  {
   "cell_type": "code",
   "execution_count": 21,
   "metadata": {},
   "outputs": [],
   "source": [
    "au_data=pd.read_csv('data/au_data_prepared.csv')"
   ]
  },
  {
   "cell_type": "code",
   "execution_count": 22,
   "metadata": {},
   "outputs": [
    {
     "data": {
      "text/plain": [
       "17"
      ]
     },
     "execution_count": 22,
     "metadata": {},
     "output_type": "execute_result"
    }
   ],
   "source": [
    "get_max_nunieque(au_data)"
   ]
  },
  {
   "cell_type": "code",
   "execution_count": 23,
   "metadata": {},
   "outputs": [
    {
     "data": {
      "text/html": [
       "<div>\n",
       "<style scoped>\n",
       "    .dataframe tbody tr th:only-of-type {\n",
       "        vertical-align: middle;\n",
       "    }\n",
       "\n",
       "    .dataframe tbody tr th {\n",
       "        vertical-align: top;\n",
       "    }\n",
       "\n",
       "    .dataframe thead th {\n",
       "        text-align: right;\n",
       "    }\n",
       "</style>\n",
       "<table border=\"1\" class=\"dataframe\">\n",
       "  <thead>\n",
       "    <tr style=\"text-align: right;\">\n",
       "      <th></th>\n",
       "      <th>A1</th>\n",
       "      <th>A4</th>\n",
       "      <th>A5</th>\n",
       "      <th>A6</th>\n",
       "      <th>A8</th>\n",
       "      <th>A9</th>\n",
       "      <th>A11</th>\n",
       "      <th>A12</th>\n",
       "      <th>A15</th>\n",
       "      <th>A2_bins</th>\n",
       "      <th>A3_bins</th>\n",
       "      <th>A7_bins</th>\n",
       "      <th>A10_bins</th>\n",
       "      <th>A13_bins</th>\n",
       "      <th>A14_bins</th>\n",
       "    </tr>\n",
       "  </thead>\n",
       "  <tbody>\n",
       "    <tr>\n",
       "      <th>0</th>\n",
       "      <td>1</td>\n",
       "      <td>2</td>\n",
       "      <td>4</td>\n",
       "      <td>4</td>\n",
       "      <td>0</td>\n",
       "      <td>0</td>\n",
       "      <td>1</td>\n",
       "      <td>2</td>\n",
       "      <td>0</td>\n",
       "      <td>(21.08, 22.5]</td>\n",
       "      <td>(11.0, 13.0]</td>\n",
       "      <td>(0.29, 2.0]</td>\n",
       "      <td>(-0.001, 1.0]</td>\n",
       "      <td>(27.2, 120.0]</td>\n",
       "      <td>(6.0, 100001.0]</td>\n",
       "    </tr>\n",
       "    <tr>\n",
       "      <th>1</th>\n",
       "      <td>0</td>\n",
       "      <td>2</td>\n",
       "      <td>8</td>\n",
       "      <td>4</td>\n",
       "      <td>0</td>\n",
       "      <td>0</td>\n",
       "      <td>0</td>\n",
       "      <td>2</td>\n",
       "      <td>0</td>\n",
       "      <td>(22.5, 23.25]</td>\n",
       "      <td>(6.75, 9.432]</td>\n",
       "      <td>(-0.001, 0.29]</td>\n",
       "      <td>(-0.001, 1.0]</td>\n",
       "      <td>(120.0, 186.8]</td>\n",
       "      <td>(0.999, 6.0]</td>\n",
       "    </tr>\n",
       "    <tr>\n",
       "      <th>2</th>\n",
       "      <td>0</td>\n",
       "      <td>1</td>\n",
       "      <td>4</td>\n",
       "      <td>4</td>\n",
       "      <td>0</td>\n",
       "      <td>0</td>\n",
       "      <td>1</td>\n",
       "      <td>2</td>\n",
       "      <td>0</td>\n",
       "      <td>(27.83, 29.649]</td>\n",
       "      <td>(1.5, 1.934]</td>\n",
       "      <td>(0.29, 2.0]</td>\n",
       "      <td>(-0.001, 1.0]</td>\n",
       "      <td>(186.8, 300.0]</td>\n",
       "      <td>(0.999, 6.0]</td>\n",
       "    </tr>\n",
       "    <tr>\n",
       "      <th>3</th>\n",
       "      <td>0</td>\n",
       "      <td>1</td>\n",
       "      <td>5</td>\n",
       "      <td>3</td>\n",
       "      <td>1</td>\n",
       "      <td>1</td>\n",
       "      <td>1</td>\n",
       "      <td>2</td>\n",
       "      <td>1</td>\n",
       "      <td>(21.08, 22.5]</td>\n",
       "      <td>(11.0, 13.0]</td>\n",
       "      <td>(-0.001, 0.29]</td>\n",
       "      <td>(7.0, 67.0]</td>\n",
       "      <td>(-0.001, 27.2]</td>\n",
       "      <td>(0.999, 6.0]</td>\n",
       "    </tr>\n",
       "    <tr>\n",
       "      <th>4</th>\n",
       "      <td>1</td>\n",
       "      <td>2</td>\n",
       "      <td>6</td>\n",
       "      <td>4</td>\n",
       "      <td>1</td>\n",
       "      <td>1</td>\n",
       "      <td>0</td>\n",
       "      <td>2</td>\n",
       "      <td>1</td>\n",
       "      <td>(19.67, 21.08]</td>\n",
       "      <td>(6.75, 9.432]</td>\n",
       "      <td>(0.29, 2.0]</td>\n",
       "      <td>(7.0, 67.0]</td>\n",
       "      <td>(27.2, 120.0]</td>\n",
       "      <td>(6.0, 100001.0]</td>\n",
       "    </tr>\n",
       "    <tr>\n",
       "      <th>...</th>\n",
       "      <td>...</td>\n",
       "      <td>...</td>\n",
       "      <td>...</td>\n",
       "      <td>...</td>\n",
       "      <td>...</td>\n",
       "      <td>...</td>\n",
       "      <td>...</td>\n",
       "      <td>...</td>\n",
       "      <td>...</td>\n",
       "      <td>...</td>\n",
       "      <td>...</td>\n",
       "      <td>...</td>\n",
       "      <td>...</td>\n",
       "      <td>...</td>\n",
       "      <td>...</td>\n",
       "    </tr>\n",
       "    <tr>\n",
       "      <th>685</th>\n",
       "      <td>1</td>\n",
       "      <td>2</td>\n",
       "      <td>14</td>\n",
       "      <td>4</td>\n",
       "      <td>1</td>\n",
       "      <td>0</td>\n",
       "      <td>0</td>\n",
       "      <td>2</td>\n",
       "      <td>1</td>\n",
       "      <td>(29.649, 31.57]</td>\n",
       "      <td>(9.432, 11.0]</td>\n",
       "      <td>(2.0, 28.5]</td>\n",
       "      <td>(-0.001, 1.0]</td>\n",
       "      <td>(-0.001, 27.2]</td>\n",
       "      <td>(0.999, 6.0]</td>\n",
       "    </tr>\n",
       "    <tr>\n",
       "      <th>686</th>\n",
       "      <td>1</td>\n",
       "      <td>2</td>\n",
       "      <td>8</td>\n",
       "      <td>4</td>\n",
       "      <td>0</td>\n",
       "      <td>0</td>\n",
       "      <td>0</td>\n",
       "      <td>2</td>\n",
       "      <td>0</td>\n",
       "      <td>(19.67, 21.08]</td>\n",
       "      <td>(0.247, 0.5]</td>\n",
       "      <td>(-0.001, 0.29]</td>\n",
       "      <td>(-0.001, 1.0]</td>\n",
       "      <td>(-0.001, 27.2]</td>\n",
       "      <td>(6.0, 100001.0]</td>\n",
       "    </tr>\n",
       "    <tr>\n",
       "      <th>687</th>\n",
       "      <td>0</td>\n",
       "      <td>2</td>\n",
       "      <td>6</td>\n",
       "      <td>4</td>\n",
       "      <td>1</td>\n",
       "      <td>0</td>\n",
       "      <td>0</td>\n",
       "      <td>2</td>\n",
       "      <td>1</td>\n",
       "      <td>(18.17, 19.67]</td>\n",
       "      <td>(9.432, 11.0]</td>\n",
       "      <td>(-0.001, 0.29]</td>\n",
       "      <td>(-0.001, 1.0]</td>\n",
       "      <td>(27.2, 120.0]</td>\n",
       "      <td>(0.999, 6.0]</td>\n",
       "    </tr>\n",
       "    <tr>\n",
       "      <th>688</th>\n",
       "      <td>0</td>\n",
       "      <td>2</td>\n",
       "      <td>14</td>\n",
       "      <td>8</td>\n",
       "      <td>1</td>\n",
       "      <td>1</td>\n",
       "      <td>0</td>\n",
       "      <td>2</td>\n",
       "      <td>1</td>\n",
       "      <td>(26.056, 27.83]</td>\n",
       "      <td>(13.0, 28.0]</td>\n",
       "      <td>(2.0, 28.5]</td>\n",
       "      <td>(-0.001, 1.0]</td>\n",
       "      <td>(27.2, 120.0]</td>\n",
       "      <td>(6.0, 100001.0]</td>\n",
       "    </tr>\n",
       "    <tr>\n",
       "      <th>689</th>\n",
       "      <td>1</td>\n",
       "      <td>2</td>\n",
       "      <td>10</td>\n",
       "      <td>4</td>\n",
       "      <td>0</td>\n",
       "      <td>1</td>\n",
       "      <td>0</td>\n",
       "      <td>1</td>\n",
       "      <td>1</td>\n",
       "      <td>(38.741, 41.453]</td>\n",
       "      <td>(-0.001, 0.247]</td>\n",
       "      <td>(-0.001, 0.29]</td>\n",
       "      <td>(-0.001, 1.0]</td>\n",
       "      <td>(300.0, 2000.0]</td>\n",
       "      <td>(0.999, 6.0]</td>\n",
       "    </tr>\n",
       "  </tbody>\n",
       "</table>\n",
       "<p>690 rows × 15 columns</p>\n",
       "</div>"
      ],
      "text/plain": [
       "     A1  A4  A5  A6  A8  A9  A11  A12  A15           A2_bins          A3_bins  \\\n",
       "0     1   2   4   4   0   0    1    2    0     (21.08, 22.5]     (11.0, 13.0]   \n",
       "1     0   2   8   4   0   0    0    2    0     (22.5, 23.25]    (6.75, 9.432]   \n",
       "2     0   1   4   4   0   0    1    2    0   (27.83, 29.649]     (1.5, 1.934]   \n",
       "3     0   1   5   3   1   1    1    2    1     (21.08, 22.5]     (11.0, 13.0]   \n",
       "4     1   2   6   4   1   1    0    2    1    (19.67, 21.08]    (6.75, 9.432]   \n",
       "..   ..  ..  ..  ..  ..  ..  ...  ...  ...               ...              ...   \n",
       "685   1   2  14   4   1   0    0    2    1   (29.649, 31.57]    (9.432, 11.0]   \n",
       "686   1   2   8   4   0   0    0    2    0    (19.67, 21.08]     (0.247, 0.5]   \n",
       "687   0   2   6   4   1   0    0    2    1    (18.17, 19.67]    (9.432, 11.0]   \n",
       "688   0   2  14   8   1   1    0    2    1   (26.056, 27.83]     (13.0, 28.0]   \n",
       "689   1   2  10   4   0   1    0    1    1  (38.741, 41.453]  (-0.001, 0.247]   \n",
       "\n",
       "            A7_bins       A10_bins         A13_bins         A14_bins  \n",
       "0       (0.29, 2.0]  (-0.001, 1.0]    (27.2, 120.0]  (6.0, 100001.0]  \n",
       "1    (-0.001, 0.29]  (-0.001, 1.0]   (120.0, 186.8]     (0.999, 6.0]  \n",
       "2       (0.29, 2.0]  (-0.001, 1.0]   (186.8, 300.0]     (0.999, 6.0]  \n",
       "3    (-0.001, 0.29]    (7.0, 67.0]   (-0.001, 27.2]     (0.999, 6.0]  \n",
       "4       (0.29, 2.0]    (7.0, 67.0]    (27.2, 120.0]  (6.0, 100001.0]  \n",
       "..              ...            ...              ...              ...  \n",
       "685     (2.0, 28.5]  (-0.001, 1.0]   (-0.001, 27.2]     (0.999, 6.0]  \n",
       "686  (-0.001, 0.29]  (-0.001, 1.0]   (-0.001, 27.2]  (6.0, 100001.0]  \n",
       "687  (-0.001, 0.29]  (-0.001, 1.0]    (27.2, 120.0]     (0.999, 6.0]  \n",
       "688     (2.0, 28.5]  (-0.001, 1.0]    (27.2, 120.0]  (6.0, 100001.0]  \n",
       "689  (-0.001, 0.29]  (-0.001, 1.0]  (300.0, 2000.0]     (0.999, 6.0]  \n",
       "\n",
       "[690 rows x 15 columns]"
      ]
     },
     "execution_count": 23,
     "metadata": {},
     "output_type": "execute_result"
    }
   ],
   "source": [
    "au_data"
   ]
  },
  {
   "cell_type": "code",
   "execution_count": 24,
   "metadata": {},
   "outputs": [],
   "source": [
    "au_data_y=au_data['A15'].to_numpy()\n",
    "au_data_x=create_images(au_data.drop(columns=['A15']))"
   ]
  },
  {
   "cell_type": "code",
   "execution_count": 25,
   "metadata": {},
   "outputs": [
    {
     "data": {
      "text/plain": [
       "<matplotlib.image.AxesImage at 0x1c811b24df0>"
      ]
     },
     "execution_count": 25,
     "metadata": {},
     "output_type": "execute_result"
    },
    {
     "data": {
      "image/png": "[encoded data removed]",
      "text/plain": [
       "<Figure size 432x288 with 1 Axes>"
      ]
     },
     "metadata": {
      "needs_background": "light"
     },
     "output_type": "display_data"
    }
   ],
   "source": [
    "plt.imshow(np.squeeze(au_data_x[1]))"
   ]
  },
  {
   "cell_type": "code",
   "execution_count": 26,
   "metadata": {},
   "outputs": [],
   "source": [
    "def get_batch(images,labels,batch_size):\n",
    "    if(batch_size==483):\n",
    "      return images,labels\n",
    "    index=random.randrange(0,len(images)-batch_size,1)\n",
    "    indexis=np.arange(index,index+batch_size,1)\n",
    "    x=images[indexis,:,:]\n",
    "    y=labels[indexis].astype('float32').reshape((-1,1))\n",
    "    return x,y"
   ]
  },
  {
   "cell_type": "code",
   "execution_count": 27,
   "metadata": {},
   "outputs": [],
   "source": [
    "x_train,x_test,y_train,y_test=train_test_split(au_data_x,au_data_y,test_size=0.30)"
   ]
  },
  {
   "cell_type": "code",
   "execution_count": 28,
   "metadata": {},
   "outputs": [
    {
     "data": {
      "text/plain": [
       "(483, 18, 14, 1)"
      ]
     },
     "execution_count": 28,
     "metadata": {},
     "output_type": "execute_result"
    }
   ],
   "source": [
    "x_train.shape"
   ]
  },
  {
   "cell_type": "code",
   "execution_count": 29,
   "metadata": {},
   "outputs": [],
   "source": [
    "def create_model(n_filters=12,l1_v=0,l2_v=0):\n",
    "      model=tf.keras.Sequential([\n",
    "        tf.keras.layers.Conv2D(filters=128,padding='same',activation='relu',strides=2,kernel_size=5,kernel_initializer=tf.keras.initializers.GlorotUniform(),kernel_regularizer=tf.keras.regularizers.l1_l2(l1=l1_v,l2=l2_v)),\n",
    "        #tf.keras.layers.Dropout(0.25,seed=17),\n",
    "        tf.keras.layers.Conv2D(filters=256,padding='same',activation='relu',strides=2,kernel_size=3,kernel_initializer=tf.keras.initializers.GlorotUniform(),kernel_regularizer=tf.keras.regularizers.l1_l2(l1=l1_v,l2=l2_v)),\n",
    "        #tf.keras.layers.Dropout(0.25,seed=17),\n",
    "        tf.keras.layers.Conv2D(filters=512,padding='same',activation='relu',strides=1,kernel_size=2,kernel_initializer=tf.keras.initializers.GlorotUniform(),kernel_regularizer=tf.keras.regularizers.l1_l2(l1=l1_v,l2=l2_v)),\n",
    "        #tf.keras.layers.Dropout(0.25,seed=17),\n",
    "        tf.keras.layers.Flatten(),\n",
    "        tf.keras.layers.Dense(16,activation='relu',kernel_initializer=tf.keras.initializers.GlorotUniform(seed=17),kernel_regularizer=tf.keras.regularizers.l1_l2(l1=l1_v,l2=l2_v)),\n",
    "        #tf.keras.layers.Dropout(0.25,seed=17),\n",
    "        tf.keras.layers.Dense(1,activation=None,kernel_initializer=tf.keras.initializers.GlorotUniform(seed=17),kernel_regularizer=tf.keras.regularizers.l1_l2(l1=l1_v,l2=l2_v))])\n",
    "      return model"
   ]
  },
  {
   "cell_type": "code",
   "execution_count": 30,
   "metadata": {},
   "outputs": [],
   "source": [
    "au_model=create_model(l2_v=0.4)"
   ]
  },
  {
   "cell_type": "code",
   "execution_count": 35,
   "metadata": {},
   "outputs": [],
   "source": [
    "from mitdeeplearning import util"
   ]
  },
  {
   "cell_type": "code",
   "execution_count": null,
   "metadata": {},
   "outputs": [],
   "source": [
    "\n",
    "batch_size=115\n",
    "num_epochs=300\n",
    "learning_rate=5e-4\n",
    "optimizer=tf.keras.optimizers.Adam(learning_rate=5e-4)\n",
    "loss_history = util.LossHistory(smoothing_factor=0.99) # to record loss evolution\n",
    "plotter = util.PeriodicPlotter(sec=0.2, scale='semilogy')\n",
    "if hasattr(tqdm, '_instances'): tqdm._instances.clear() # clear if it exists\n",
    "\n",
    "@tf.function\n",
    "def standard_train_step(x,y):\n",
    "    with tf.GradientTape() as tape:\n",
    "        logits=au_model(x)\n",
    "        #print(logits.shape)\n",
    "      \n",
    "        #print(y.shape)\n",
    "        loss=tf.nn.sigmoid_cross_entropy_with_logits(labels=y,logits=logits)\n",
    "        regularization_loss=tf.reduce_mean(au_model.losses)\n",
    "        loss=loss+regularization_loss\n",
    "    grads=tape.gradient(loss,au_model.trainable_variables)\n",
    "    optimizer.apply_gradients(zip(grads,au_model.trainable_variables))\n",
    "    return loss\n",
    "accuraty_history=[]\n",
    "for epoch in range(num_epochs):\n",
    "    for idx in tqdm(range(x_train.shape[0]//batch_size)):\n",
    "        x,y=get_batch(x_train,y_train,batch_size)\n",
    "        loss=standard_train_step(x,y)\n",
    "      \n",
    "          \n",
    "        y_predicted=tf.round(tf.nn.sigmoid(au_model.predict(x_test)))\n",
    "        y_test=y_test.astype('float32').reshape(-1,1)\n",
    "        acc_standard=tf.reduce_mean(tf.cast(tf.equal(y_test,y_predicted),tf.float32))\n",
    "        accuraty_history.append(acc_standard)\n",
    "        #loss_history.append(loss.numpy().mean())\n",
    "        plotter.plot(accuraty_history)\n",
    "\n",
    "y_predicted=tf.round(tf.nn.sigmoid(au_model.predict(x_test)))\n",
    "y_test=y_test.astype('float32').reshape(-1,1)\n",
    "acc_standard=tf.reduce_mean(tf.cast(tf.equal(y_test,y_predicted),tf.float32))\n",
    "print(\"Standard CNN accuracy on test set: {:.4f}\".format(acc_standard.numpy()))\n",
    "\n",
    "y_predicted=tf.round(tf.nn.sigmoid(au_model.predict(x_train)))\n",
    "y_train=y_train.astype('float32').reshape(-1,1)\n",
    "acc_standard=tf.reduce_mean(tf.cast(tf.equal(y_train,y_predicted),tf.float32))\n",
    "print(\"Standard CNN accuracy on training set: {:.4f}\".format(acc_standard.numpy()))\n",
    "\n",
    "print(max(accuraty_history))  "
   ]
  },
  {
   "cell_type": "code",
   "execution_count": null,
   "metadata": {},
   "outputs": [],
   "source": [
    "y_predicted=tf.round(tf.nn.sigmoid(au_model.predict(x_test)))\n",
    "y_test=y_test.astype('float32').reshape(-1,1)\n",
    "cm=confusion_matrix(y_test,y_predicted)\n",
    "report=classification_report(y_test,y_predicted)\n",
    "print(cm)\n",
    "print(report)"
   ]
  }
 ],
 "metadata": {
  "kernelspec": {
   "display_name": "Python 3.8.5",
   "language": "python",
   "name": "python3"
  },
  "language_info": {
   "codemirror_mode": {
    "name": "ipython",
    "version": 3
   },
   "file_extension": ".py",
   "mimetype": "text/x-python",
   "name": "python",
   "nbconvert_exporter": "python",
   "pygments_lexer": "ipython3",
   "version": "3.8.5"
  },
  "orig_nbformat": 4,
  "vscode": {
   "interpreter": {
    "hash": "6f5583cf1d9466b5c27e75c89cc6b383bed5736d6b16c51c8074d8690011a952"
   }
  }
 },
 "nbformat": 4,
 "nbformat_minor": 2
}
